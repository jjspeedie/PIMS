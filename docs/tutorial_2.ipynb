{
 "cells": [
  {
   "cell_type": "markdown",
   "id": "2ffc56ed",
   "metadata": {},
   "source": [
    "# Streamlines in the sky frame"
   ]
  },
  {
   "cell_type": "markdown",
   "id": "6ba184ca",
   "metadata": {},
   "source": [
    "In this notebook, we'll walk through how to generate a streamline using the **Pineda Implementation of the Mendoza Streamline model**, ``PIMS``. The analytic model was presented by [Mendoza et al. (2009)](https://ui.adsabs.harvard.edu/abs/2009MNRAS.393..579M/abstract). The code implementation was first used to interpret observations by [Pineda et al. (2020)](https://ui.adsabs.harvard.edu/abs/2020NatAs...4.1158P/abstract), and later by [Valdivia-Mena et al. (2022)](https://ui.adsabs.harvard.edu/abs/2022A%26A...667A..12V/abstract). \n",
    "The code [``TIPSY``](https://github.com/AashishGpta/TIPSY) is an independent implementation of the same Mendoza model, presented by [Gupta et al. (2024)](https://ui.adsabs.harvard.edu/abs/2024arXiv240110403G/abstract)."
   ]
  },
  {
   "cell_type": "markdown",
   "id": "3388e969",
   "metadata": {},
   "source": [
    "## The sky frame coordinate system"
   ]
  },
  {
   "cell_type": "code",
   "execution_count": null,
   "id": "7858d886",
   "metadata": {},
   "outputs": [],
   "source": []
  },
  {
   "cell_type": "markdown",
   "id": "af1c954b",
   "metadata": {},
   "source": [
    "## Generate a streamline with defined inclination and position angle"
   ]
  },
  {
   "cell_type": "code",
   "execution_count": null,
   "id": "89a815d0",
   "metadata": {},
   "outputs": [],
   "source": [
    "import sys, os\n",
    "sys.path.append('/Users/jspeedie/Documents/RESEARCH/MSC5/code/PIMS/')\n",
    "from pims import streamline"
   ]
  },
  {
   "cell_type": "code",
   "execution_count": null,
   "id": "0d32c78e",
   "metadata": {},
   "outputs": [],
   "source": [
    "mass        = 2.     # Msun\n",
    "omega       = 8e-12  # Hz\n",
    "r0          = 1000   # au\n",
    "theta0      = 45     # deg\n",
    "phi0        = 0      # deg\n",
    "v_r0        = 0      # km/s\n",
    "# rmin        = 50     # au (optional)\n",
    "# delta_r     = 10     # au (optional)\n",
    "\n",
    "inc         = 0      # deg\n",
    "pa          = 0      # deg"
   ]
  },
  {
   "cell_type": "code",
   "execution_count": null,
   "id": "2b150c69",
   "metadata": {},
   "outputs": [],
   "source": [
    "streamer = streamline(mass=mass, omega=omega, r0=r0, theta0=theta0, phi0=phi0,  v_r0=v_r0, inc=inc, pa=pa)"
   ]
  },
  {
   "cell_type": "code",
   "execution_count": null,
   "id": "f478eb8c",
   "metadata": {},
   "outputs": [],
   "source": []
  },
  {
   "cell_type": "code",
   "execution_count": null,
   "id": "31b4e3b3",
   "metadata": {},
   "outputs": [],
   "source": []
  },
  {
   "cell_type": "code",
   "execution_count": null,
   "id": "e188528c",
   "metadata": {},
   "outputs": [],
   "source": [
    "# again but with dist and vsys\n",
    "# streamer = streamline(mass=mass, omega=omega, r0=r0, theta0=theta0, phi0=phi0,  v_r0=v_r0, inc=inc, pa=pa,\n",
    "#                  dist=None, v_sys=None)"
   ]
  },
  {
   "cell_type": "code",
   "execution_count": null,
   "id": "6471a9c3",
   "metadata": {},
   "outputs": [],
   "source": []
  },
  {
   "cell_type": "code",
   "execution_count": null,
   "id": "af241aeb",
   "metadata": {},
   "outputs": [],
   "source": []
  },
  {
   "cell_type": "code",
   "execution_count": null,
   "id": "35dd8f18",
   "metadata": {},
   "outputs": [],
   "source": []
  },
  {
   "cell_type": "code",
   "execution_count": null,
   "id": "62d805ea",
   "metadata": {},
   "outputs": [],
   "source": []
  },
  {
   "cell_type": "code",
   "execution_count": null,
   "id": "daae1295",
   "metadata": {},
   "outputs": [],
   "source": []
  },
  {
   "cell_type": "code",
   "execution_count": null,
   "id": "69ee1b89",
   "metadata": {},
   "outputs": [],
   "source": []
  },
  {
   "cell_type": "code",
   "execution_count": null,
   "id": "5f1c0a13",
   "metadata": {},
   "outputs": [],
   "source": []
  },
  {
   "cell_type": "code",
   "execution_count": null,
   "id": "e72c7e96",
   "metadata": {},
   "outputs": [],
   "source": []
  },
  {
   "cell_type": "markdown",
   "id": "c4189eaa",
   "metadata": {},
   "source": [
    "## Recreating figures in [Pineda et al. (2020)](https://ui.adsabs.harvard.edu/abs/2020NatAs...4.1158P/abstract) and [Valdivia-Mena et al. (2022)](https://ui.adsabs.harvard.edu/abs/2022A%26A...667A..12V/abstract)"
   ]
  },
  {
   "cell_type": "code",
   "execution_count": null,
   "id": "3052c3fe",
   "metadata": {},
   "outputs": [],
   "source": []
  },
  {
   "cell_type": "code",
   "execution_count": null,
   "id": "650e2995",
   "metadata": {},
   "outputs": [],
   "source": []
  },
  {
   "cell_type": "code",
   "execution_count": null,
   "id": "0486e8e8",
   "metadata": {},
   "outputs": [],
   "source": []
  }
 ],
 "metadata": {
  "kernelspec": {
   "display_name": "Python 3 (ipykernel)",
   "language": "python",
   "name": "python3"
  },
  "language_info": {
   "codemirror_mode": {
    "name": "ipython",
    "version": 3
   },
   "file_extension": ".py",
   "mimetype": "text/x-python",
   "name": "python",
   "nbconvert_exporter": "python",
   "pygments_lexer": "ipython3",
   "version": "3.11.5"
  }
 },
 "nbformat": 4,
 "nbformat_minor": 5
}
